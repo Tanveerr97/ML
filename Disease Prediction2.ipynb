{
 "cells": [
  {
   "cell_type": "code",
   "execution_count": 1,
   "metadata": {},
   "outputs": [
    {
     "name": "stdout",
     "output_type": "stream",
     "text": [
      "Accuracy: 1.00\n",
      "Classification Report:\n",
      "              precision    recall  f1-score   support\n",
      "\n",
      "        cold       1.00      1.00      1.00         1\n",
      "         flu       1.00      1.00      1.00         1\n",
      "\n",
      "    accuracy                           1.00         2\n",
      "   macro avg       1.00      1.00      1.00         2\n",
      "weighted avg       1.00      1.00      1.00         2\n",
      "\n",
      "Predicted Disease: flu\n"
     ]
    },
    {
     "name": "stderr",
     "output_type": "stream",
     "text": [
      "c:\\Users\\tanve\\AppData\\Local\\Programs\\Python\\Python313\\Lib\\site-packages\\sklearn\\utils\\validation.py:2739: UserWarning: X does not have valid feature names, but RandomForestClassifier was fitted with feature names\n",
      "  warnings.warn(\n"
     ]
    }
   ],
   "source": [
    "from sklearn.model_selection import train_test_split\n",
    "from sklearn.ensemble import RandomForestClassifier\n",
    "from sklearn.metrics import accuracy_score, classification_report\n",
    "import pandas as pd\n",
    "\n",
    "# Sample dataset (You would replace this with a real dataset)\n",
    "data = {\n",
    "    'fever': [1, 0, 1, 0, 1, 0, 1],  # 1 = Yes, 0 = No\n",
    "    'headache': [1, 0, 1, 1, 1, 0, 0],\n",
    "    'cough': [0, 1, 1, 0, 0, 0, 1],\n",
    "    'sore_throat': [1, 0, 0, 1, 1, 0, 0],\n",
    "    'fatigue': [1, 1, 0, 0, 1, 0, 0],\n",
    "    'disease': ['flu', 'cold', 'flu', 'cold', 'flu', 'cold', 'cold']  # Target variable\n",
    "}\n",
    "\n",
    "# Convert to a pandas DataFrame\n",
    "df = pd.DataFrame(data)\n",
    "\n",
    "# Features (X) and target (y)\n",
    "X = df.drop('disease', axis=1)\n",
    "y = df['disease']\n",
    "\n",
    "# Train-Test Split\n",
    "X_train, X_test, y_train, y_test = train_test_split(X, y, test_size=0.2, random_state=42)\n",
    "\n",
    "# Initialize RandomForestClassifier\n",
    "model = RandomForestClassifier()\n",
    "\n",
    "# Train the model\n",
    "model.fit(X_train, y_train)\n",
    "\n",
    "# Make predictions\n",
    "y_pred = model.predict(X_test)\n",
    "\n",
    "# Evaluate the model\n",
    "print(f\"Accuracy: {accuracy_score(y_test, y_pred):.2f}\")\n",
    "print(\"Classification Report:\")\n",
    "print(classification_report(y_test, y_pred))\n",
    "\n",
    "# Predict disease based on new symptoms\n",
    "def predict_disease(symptoms):\n",
    "    prediction = model.predict([symptoms])[0]\n",
    "    return prediction\n",
    "\n",
    "# Example usage:\n",
    "new_symptoms = [1, 1, 0, 1, 1]  # Example symptoms: fever, headache, sore throat, fatigue (1 = Present)\n",
    "predicted_disease = predict_disease(new_symptoms)\n",
    "print(f\"Predicted Disease: {predicted_disease}\")\n"
   ]
  }
 ],
 "metadata": {
  "kernelspec": {
   "display_name": "Python 3",
   "language": "python",
   "name": "python3"
  },
  "language_info": {
   "codemirror_mode": {
    "name": "ipython",
    "version": 3
   },
   "file_extension": ".py",
   "mimetype": "text/x-python",
   "name": "python",
   "nbconvert_exporter": "python",
   "pygments_lexer": "ipython3",
   "version": "3.13.2"
  }
 },
 "nbformat": 4,
 "nbformat_minor": 2
}
