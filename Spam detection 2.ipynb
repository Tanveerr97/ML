{
 "cells": [
  {
   "cell_type": "code",
   "execution_count": 2,
   "metadata": {},
   "outputs": [
    {
     "name": "stdout",
     "output_type": "stream",
     "text": [
      "Accuracy: 1.0000\n",
      "Classification Report:\n",
      "              precision    recall  f1-score   support\n",
      "\n",
      "         ham       1.00      1.00      1.00         1\n",
      "        spam       1.00      1.00      1.00         1\n",
      "\n",
      "    accuracy                           1.00         2\n",
      "   macro avg       1.00      1.00      1.00         2\n",
      "weighted avg       1.00      1.00      1.00         2\n",
      "\n"
     ]
    }
   ],
   "source": [
    "# Importing libraries\n",
    "import pandas as pd\n",
    "from sklearn.feature_extraction.text import CountVectorizer\n",
    "from sklearn.model_selection import train_test_split\n",
    "from sklearn.linear_model import LogisticRegression\n",
    "from sklearn.metrics import accuracy_score, classification_report\n",
    "\n",
    "# Sample Dataset (you can replace this with a real dataset)\n",
    "data = {\n",
    "    'message': [\n",
    "        'Free money now!!!',\n",
    "        'Meeting at 3 PM',\n",
    "        'Get cheap loans now',\n",
    "        'Hey, how are you?',\n",
    "        'You have won a lottery!',\n",
    "        'Let\\'s catch up tomorrow',\n",
    "        'Congrats, you are eligible for a discount',\n",
    "        'How about coffee tomorrow?',\n",
    "        'Call me for your prize',\n",
    "        'Can we reschedule our meeting?'\n",
    "    ],\n",
    "    'label': ['spam', 'ham', 'spam', 'ham', 'spam', 'ham', 'spam', 'ham', 'spam', 'ham']\n",
    "}\n",
    "\n",
    "# Convert the data into a DataFrame\n",
    "df = pd.DataFrame(data)\n",
    "\n",
    "# Split the dataset into features (X) and target (y)\n",
    "X = df['message']\n",
    "y = df['label']\n",
    "\n",
    "# Convert text data into numerical features using CountVectorizer\n",
    "vectorizer = CountVectorizer(stop_words='english')  # Remove common words (like 'the', 'is', etc.)\n",
    "X_vec = vectorizer.fit_transform(X)\n",
    "\n",
    "# Split the data into training and testing sets (80% train, 20% test)\n",
    "X_train, X_test, y_train, y_test = train_test_split(X_vec, y, test_size=0.2, random_state=42)\n",
    "\n",
    "# Train a Logistic Regression model\n",
    "model = LogisticRegression()\n",
    "model.fit(X_train, y_train)\n",
    "\n",
    "# Predict on the test data\n",
    "y_pred = model.predict(X_test)\n",
    "\n",
    "# Evaluate the model\n",
    "print(f'Accuracy: {accuracy_score(y_test, y_pred):.4f}')\n",
    "print('Classification Report:')\n",
    "print(classification_report(y_test, y_pred))\n",
    "\n"
   ]
  },
  {
   "cell_type": "code",
   "execution_count": 3,
   "metadata": {},
   "outputs": [
    {
     "name": "stdout",
     "output_type": "stream",
     "text": [
      "Message: You have a meeting scheduled at 10 AM tomorrow\n",
      "Prediction: ham\n",
      "--------------------------------------------------\n",
      "Message: Claim your free vacation now, call us today!\n",
      "Prediction: spam\n",
      "--------------------------------------------------\n",
      "Message: Are we still on for lunch today?\n",
      "Prediction: spam\n",
      "--------------------------------------------------\n",
      "Message: Limited time offer on electronics, shop now!\n",
      "Prediction: spam\n",
      "--------------------------------------------------\n"
     ]
    }
   ],
   "source": [
    "# Sample new messages to test the model\n",
    "new_messages = [\n",
    "    \"You have a meeting scheduled at 10 AM tomorrow\",\n",
    "    \"Claim your free vacation now, call us today!\",\n",
    "    \"Are we still on for lunch today?\",\n",
    "    \"Limited time offer on electronics, shop now!\"\n",
    "]\n",
    "\n",
    "# Preprocess the new messages (convert to numerical features)\n",
    "new_messages_vec = vectorizer.transform(new_messages)\n",
    "\n",
    "# Predict using the trained model\n",
    "predictions = model.predict(new_messages_vec)\n",
    "\n",
    "# Print the predictions\n",
    "for message, prediction in zip(new_messages, predictions):\n",
    "    print(f\"Message: {message}\")\n",
    "    print(f\"Prediction: {prediction}\")\n",
    "    print(\"-\" * 50)\n"
   ]
  }
 ],
 "metadata": {
  "kernelspec": {
   "display_name": "Python 3",
   "language": "python",
   "name": "python3"
  },
  "language_info": {
   "codemirror_mode": {
    "name": "ipython",
    "version": 3
   },
   "file_extension": ".py",
   "mimetype": "text/x-python",
   "name": "python",
   "nbconvert_exporter": "python",
   "pygments_lexer": "ipython3",
   "version": "3.13.2"
  }
 },
 "nbformat": 4,
 "nbformat_minor": 2
}
