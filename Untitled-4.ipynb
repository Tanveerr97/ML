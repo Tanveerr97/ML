{
 "cells": [
  {
   "cell_type": "code",
   "execution_count": 94,
   "metadata": {},
   "outputs": [
    {
     "data": {
      "text/plain": [
       "0.4591836734693855"
      ]
     },
     "execution_count": 94,
     "metadata": {},
     "output_type": "execute_result"
    }
   ],
   "source": [
    "from sklearn.linear_model import Ridge,Lasso\n",
    "from sklearn.model_selection import train_test_split\n",
    "from sklearn.metrics import mean_squared_error\n",
    "import numpy as np\n",
    "import pandas as pd\n",
    "from sklearn.linear_model import LinearRegression\n",
    "# Step 1: Generate Sample Data (5 samples, 2 features)\n",
    "X = np.array([[1, 2], [2, 3], [3, 5], [4, 7], [5, 11]])\n",
    "y = np.array([5, 8, 11, 16, 22])  # Target variable\n",
    "\n",
    "\n",
    "X = pd.DataFrame(X)\n",
    "y = pd.DataFrame(y)\n",
    "\n",
    "# Step 2: Split into Training and Testing Sets (80% train, 20% test)\n",
    "X_train, X_test, y_train, y_test = train_test_split(X, y, test_size=0.4, random_state=42)\n",
    "\n",
    "# Initialize and train the model\n",
    "model = LinearRegression()\n",
    "model.fit(X_train, y_train)\n",
    "\n",
    "# Predictions\n",
    "y_pred = model.predict(X_test)\n",
    "\n",
    "a=model.score(X_test,y_test)\n",
    "a\n",
    "\n",
    "\n",
    "\n",
    "\n"
   ]
  },
  {
   "cell_type": "code",
   "execution_count": 95,
   "metadata": {},
   "outputs": [
    {
     "data": {
      "text/plain": [
       "0.9986396048667111"
      ]
     },
     "execution_count": 95,
     "metadata": {},
     "output_type": "execute_result"
    }
   ],
   "source": [
    "# Step 2: Train Ridge Regression Model\n",
    "ridge = Ridge(alpha=2)  # λ (regularization strength)\n",
    "ridge.fit(X_train, y_train)\n",
    "ridge.score(X_test,y_test)"
   ]
  },
  {
   "cell_type": "code",
   "execution_count": 96,
   "metadata": {},
   "outputs": [
    {
     "name": "stdout",
     "output_type": "stream",
     "text": [
      "Predictions on test data: [ 7.81578947 21.5       ]\n",
      "Alpha (regularization strength) value used: 2\n"
     ]
    }
   ],
   "source": [
    "## Step 3: Train Lasso Regression Model\n",
    "from sklearn.linear_model import Lasso\n",
    "\n",
    "Lasso = Lasso(alpha=2)  # λ (regularization strength)\n",
    "Lasso.fit(X_train, y_train)\n",
    "\n",
    "# Model score on test data\n",
    "score = Lasso.score(X_test, y_test)\n",
    "\n",
    "# Make Predictions on the Test Set\n",
    "y_pred = Lasso.predict(X_test)\n",
    "\n",
    "# Print Predictions\n",
    "print(\"Predictions on test data:\", y_pred)\n",
    "\n",
    "# Print the value of alpha used in the model\n",
    "print(\"Alpha (regularization strength) value used:\", Lasso.alpha)\n",
    "\n"
   ]
  },
  {
   "cell_type": "code",
   "execution_count": null,
   "metadata": {},
   "outputs": [
    {
     "name": "stdout",
     "output_type": "stream",
     "text": [
      "Mean Squared Error (MSE): 0.141966759002772\n",
      "Root Mean Squared Error (RMSE): 0.3767847648230645\n",
      "[0.         1.71052632]\n",
      "Coefficient for X1: 0.0\n",
      "Coefficient for X2: 1.7105263157894737\n",
      "[2.68421053]\n"
     ]
    }
   ],
   "source": [
    "from sklearn.metrics import mean_squared_error\n",
    "\n",
    "# Calculate Mean Squared Error (MSE)\n",
    "mse = mean_squared_error(y_test, y_pred)\n",
    "print(\"Mean Squared Error (MSE):\", mse)\n",
    "\n",
    "# Optionally, calculate the Root Mean Squared Error (RMSE)\n",
    "rmse = np.sqrt(mse)\n",
    "print(\"Root Mean Squared Error (RMSE):\", rmse)\n",
    "\n",
    "coefficients = Lasso.coef_\n",
    "print(coefficients )\n",
    "\n",
    "coef1 = coefficients[0]  # First feature coefficient (X1)\n",
    "coef2 = coefficients[1]  # Second feature coefficient (X2)\n",
    "\n",
    "print(\"Coefficient for X1:\", coef1)\n",
    "print(\"Coefficient for X2:\", coef2)\n",
    "intercept = Lasso.intercept_\n",
    "print(intercept)\n",
    "\n",
    "\n",
    "\n"
   ]
  },
  {
   "cell_type": "code",
   "execution_count": 98,
   "metadata": {},
   "outputs": [
    {
     "name": "stdout",
     "output_type": "stream",
     "text": [
      "Predicted value for X = [6, 15]: [28.34210526]\n"
     ]
    }
   ],
   "source": [
    "# New input data\n",
    "X_new = np.array([[6, 15]])\n",
    "\n",
    "# Predict the value using the trained Lasso model\n",
    "y_new_pred = Lasso.predict(X_new)\n",
    "\n",
    "\n",
    "# Print the predicted value\n",
    "print(\"Predicted value for X = [6, 15]:\", y_new_pred)\n"
   ]
  }
 ],
 "metadata": {
  "kernelspec": {
   "display_name": "Python 3",
   "language": "python",
   "name": "python3"
  },
  "language_info": {
   "codemirror_mode": {
    "name": "ipython",
    "version": 3
   },
   "file_extension": ".py",
   "mimetype": "text/x-python",
   "name": "python",
   "nbconvert_exporter": "python",
   "pygments_lexer": "ipython3",
   "version": "3.13.2"
  }
 },
 "nbformat": 4,
 "nbformat_minor": 2
}
