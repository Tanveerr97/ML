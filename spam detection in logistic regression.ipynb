{
 "cells": [
  {
   "cell_type": "code",
   "execution_count": 5,
   "metadata": {},
   "outputs": [
    {
     "name": "stdout",
     "output_type": "stream",
     "text": [
      "Accuracy: 0.00\n"
     ]
    }
   ],
   "source": [
    "from sklearn.feature_extraction.text import TfidfVectorizer\n",
    "from sklearn.model_selection import train_test_split\n",
    "from sklearn.linear_model import LogisticRegression\n",
    "from sklearn.pipeline import make_pipeline\n",
    "from sklearn.metrics import accuracy_score\n",
    "\n",
    "# Sample Data (Replace with real dataset)\n",
    "messages = [\"You won a free prize!\", \"Meeting at 5 PM\", \"Exclusive deal, claim now!\", \"Project update\"]\n",
    "labels = [1, 0, 1, 0]  # 1 = Spam, 0 = Not Spam\n",
    "\n",
    "# Train-Test Split\n",
    "X_train, X_test, y_train, y_test = train_test_split(messages, labels, test_size=0.2, random_state=42)\n",
    "\n",
    "# Create Pipeline (Simpler Syntax)\n",
    "model = make_pipeline(TfidfVectorizer(), LogisticRegression())\n",
    "\n",
    "# Train & Predict\n",
    "model.fit(X_train, y_train)\n",
    "y_pred = model.predict(X_test)\n",
    "\n",
    "# Accuracy\n",
    "print(f\"Accuracy: {accuracy_score(y_test, y_pred):.2f}\")\n",
    "\n"
   ]
  },
  {
   "cell_type": "code",
   "execution_count": 6,
   "metadata": {},
   "outputs": [
    {
     "name": "stdout",
     "output_type": "stream",
     "text": [
      "Prediction: Spam\n",
      "Prediction: Spam\n",
      "Exiting...\n"
     ]
    }
   ],
   "source": [
    "# Function to Predict New Messages\n",
    "def check_spam(message):\n",
    "    prediction = model.predict([message])[0]\n",
    "    return \"Spam\" if prediction == 1 else \"Not Spam\"\n",
    "\n",
    "# Live Message Prediction\n",
    "while True:\n",
    "    new_message = input(\"\\nEnter a message (or type 'exit' to stop): \")\n",
    "    if new_message.lower() == \"exit\":\n",
    "        print(\"Exiting...\")\n",
    "        break\n",
    "    print(f\"Prediction: {check_spam(new_message)}\")"
   ]
  }
 ],
 "metadata": {
  "kernelspec": {
   "display_name": "Python 3",
   "language": "python",
   "name": "python3"
  },
  "language_info": {
   "codemirror_mode": {
    "name": "ipython",
    "version": 3
   },
   "file_extension": ".py",
   "mimetype": "text/x-python",
   "name": "python",
   "nbconvert_exporter": "python",
   "pygments_lexer": "ipython3",
   "version": "3.13.2"
  }
 },
 "nbformat": 4,
 "nbformat_minor": 2
}
