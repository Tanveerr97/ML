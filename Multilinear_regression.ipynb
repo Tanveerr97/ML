{
 "cells": [
  {
   "cell_type": "code",
   "execution_count": 1,
   "metadata": {},
   "outputs": [
    {
     "name": "stdout",
     "output_type": "stream",
     "text": [
      "Coefficients: [0.35714286 0.71428571 1.07142857]\n",
      "Intercept: -7.105427357601002e-15\n"
     ]
    },
    {
     "data": {
      "text/plain": [
       "array([55.])"
      ]
     },
     "execution_count": 1,
     "metadata": {},
     "output_type": "execute_result"
    }
   ],
   "source": [
    "import numpy as np\n",
    "import pandas as pd\n",
    "import matplotlib.pyplot as plt\n",
    "from sklearn.model_selection import train_test_split\n",
    "from sklearn.linear_model import LinearRegression\n",
    "from sklearn.metrics import mean_squared_error, r2_score\n",
    "\n",
    "# Sample dataset (Replace this with your actual dataset)\n",
    "data = {\n",
    "    'Feature1': [1, 2, 3, 4, 5, 6, 7, 8, 9, 10],\n",
    "    'Feature2': [2, 4, 6, 8, 10, 12, 14, 16, 18, 20],\n",
    "    'Feature3': [3, 6, 9, 12, 15, 18, 21, 24, 27, 30],\n",
    "    'Target': [5, 10, 15, 20, 25, 30, 35, 40, 45, 50]\n",
    "}\n",
    "\n",
    "df = pd.DataFrame(data)\n",
    "\n",
    "# Independent Variables (Features)\n",
    "X = df[['Feature1', 'Feature2', 'Feature3']]\n",
    "\n",
    "# Dependent Variable (Target)\n",
    "y = df['Target']\n",
    "\n",
    "# Splitting into training and testing sets (80% train, 20% test)\n",
    "X_train, X_test, y_train, y_test = train_test_split(X, y, test_size=0.2, random_state=42)\n",
    "\n",
    "# Initialize and train the model\n",
    "model = LinearRegression()\n",
    "model.fit(X_train, y_train)\n",
    "\n",
    "# Predictions\n",
    "y_pred = model.predict(X_test)\n",
    "\n",
    "model.score(X_test,y_test)\n",
    "\n",
    "print(\"Coefficients:\", model.coef_)\n",
    "print(\"Intercept:\", model.intercept_)\n",
    "\n",
    "# Corrected Prediction for a New Data Point\n",
    "new_data = pd.DataFrame([[11, 22, 33]], columns=['Feature1', 'Feature2', 'Feature3'])  # New values for Feature1, Feature2, Feature3\n",
    "\n",
    "predicted_value = model.predict(new_data)\n",
    "\n",
    "predicted_value\n"
   ]
  }
 ],
 "metadata": {
  "kernelspec": {
   "display_name": "Python 3",
   "language": "python",
   "name": "python3"
  },
  "language_info": {
   "codemirror_mode": {
    "name": "ipython",
    "version": 3
   },
   "file_extension": ".py",
   "mimetype": "text/x-python",
   "name": "python",
   "nbconvert_exporter": "python",
   "pygments_lexer": "ipython3",
   "version": "3.13.2"
  }
 },
 "nbformat": 4,
 "nbformat_minor": 2
}
