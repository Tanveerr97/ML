{
 "cells": [
  {
   "cell_type": "code",
   "execution_count": 77,
   "metadata": {},
   "outputs": [
    {
     "name": "stdout",
     "output_type": "stream",
     "text": [
      "R-squared (R²) score: 0.8425196850393701\n",
      "Predicted Exam Score for new student: 70.0\n"
     ]
    }
   ],
   "source": [
    "from sklearn.tree import DecisionTreeRegressor\n",
    "from sklearn.metrics import r2_score\n",
    "from sklearn.model_selection import train_test_split\n",
    "import numpy as np\n",
    "\n",
    "# New dataset with multiple features\n",
    "# Columns: [Study Hours, Books Read, Notes Prepared]\n",
    "X = [\n",
    "    [1, 0, 2],   # Student 1\n",
    "    [2, 1, 3],   # Student 2\n",
    "    [3, 2, 5],   # Student 3\n",
    "    [4, 2, 7],   # Student 4\n",
    "    [5, 3, 9],   # Student 5\n",
    "    [6, 4, 11],  # Student 6\n",
    "    [7, 5, 13],  # Student 7\n",
    "    [8, 5, 15],  # Student 8\n",
    "    [9, 6, 17],  # Student 9\n",
    "    [10, 7, 19]  # Student 10\n",
    "]\n",
    "\n",
    "# Target variable: Exam Scores\n",
    "y = [50, 55, 60, 65, 70, 75, 80, 85, 90, 95]\n",
    "\n",
    "# Split the data into training and test sets (50% test size)\n",
    "X_train, X_test, y_train, y_test = train_test_split(X, y, test_size=0.5, random_state=42)\n",
    "\n",
    "# Create and fit the Decision Tree Regressor model\n",
    "model = DecisionTreeRegressor(random_state=42)\n",
    "model.fit(X_train, y_train)\n",
    "\n",
    "# Predict using the trained model\n",
    "y_pred = model.predict(X_test)\n",
    "\n",
    "# Calculate and print the R² score\n",
    "r2 = r2_score(y_test, y_pred)\n",
    "print(f\"R-squared (R²) score: {r2}\")\n",
    "\n",
    "# Predict the result for a new student\n",
    "new_student = np.array([[5, 3, 8]])  # 5 hours studied, 3 books read, 8 notes prepared\n",
    "predicted_score = model.predict(new_student)\n",
    "print(f\"Predicted Exam Score for new student: {predicted_score[0]}\")\n",
    "\n"
   ]
  }
 ],
 "metadata": {
  "kernelspec": {
   "display_name": "Python 3",
   "language": "python",
   "name": "python3"
  },
  "language_info": {
   "codemirror_mode": {
    "name": "ipython",
    "version": 3
   },
   "file_extension": ".py",
   "mimetype": "text/x-python",
   "name": "python",
   "nbconvert_exporter": "python",
   "pygments_lexer": "ipython3",
   "version": "3.13.2"
  }
 },
 "nbformat": 4,
 "nbformat_minor": 2
}
